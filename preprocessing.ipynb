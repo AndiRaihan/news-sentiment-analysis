{
 "cells": [
  {
   "cell_type": "code",
   "execution_count": 27,
   "metadata": {},
   "outputs": [],
   "source": [
    "import pandas as pd\n",
    "import numpy as np\n",
    "import matplotlib.pyplot as plt\n",
    "import seaborn as sns\n",
    "from googletrans import Translator"
   ]
  },
  {
   "cell_type": "code",
   "execution_count": 28,
   "metadata": {},
   "outputs": [
    {
     "data": {
      "text/html": [
       "<div>\n",
       "<style scoped>\n",
       "    .dataframe tbody tr th:only-of-type {\n",
       "        vertical-align: middle;\n",
       "    }\n",
       "\n",
       "    .dataframe tbody tr th {\n",
       "        vertical-align: top;\n",
       "    }\n",
       "\n",
       "    .dataframe thead th {\n",
       "        text-align: right;\n",
       "    }\n",
       "</style>\n",
       "<table border=\"1\" class=\"dataframe\">\n",
       "  <thead>\n",
       "    <tr style=\"text-align: right;\">\n",
       "      <th></th>\n",
       "      <th>sentiment</th>\n",
       "      <th>text</th>\n",
       "      <th>translated</th>\n",
       "    </tr>\n",
       "  </thead>\n",
       "  <tbody>\n",
       "    <tr>\n",
       "      <th>0</th>\n",
       "      <td>neutral</td>\n",
       "      <td>According to Gran , the company has no plans t...</td>\n",
       "      <td>False</td>\n",
       "    </tr>\n",
       "    <tr>\n",
       "      <th>1</th>\n",
       "      <td>neutral</td>\n",
       "      <td>Technopolis plans to develop in stages an area...</td>\n",
       "      <td>False</td>\n",
       "    </tr>\n",
       "    <tr>\n",
       "      <th>2</th>\n",
       "      <td>negative</td>\n",
       "      <td>The international electronic industry company ...</td>\n",
       "      <td>False</td>\n",
       "    </tr>\n",
       "    <tr>\n",
       "      <th>3</th>\n",
       "      <td>positive</td>\n",
       "      <td>With the new production plant the company woul...</td>\n",
       "      <td>False</td>\n",
       "    </tr>\n",
       "    <tr>\n",
       "      <th>4</th>\n",
       "      <td>positive</td>\n",
       "      <td>According to the company 's updated strategy f...</td>\n",
       "      <td>False</td>\n",
       "    </tr>\n",
       "  </tbody>\n",
       "</table>\n",
       "</div>"
      ],
      "text/plain": [
       "  sentiment                                               text  translated\n",
       "0   neutral  According to Gran , the company has no plans t...       False\n",
       "1   neutral  Technopolis plans to develop in stages an area...       False\n",
       "2  negative  The international electronic industry company ...       False\n",
       "3  positive  With the new production plant the company woul...       False\n",
       "4  positive  According to the company 's updated strategy f...       False"
      ]
     },
     "execution_count": 28,
     "metadata": {},
     "output_type": "execute_result"
    }
   ],
   "source": [
    "df = pd.read_csv('text-data.csv', encoding=\"ISO-8859-1\")\n",
    "df.head()"
   ]
  },
  {
   "cell_type": "code",
   "execution_count": 29,
   "metadata": {},
   "outputs": [],
   "source": [
    "translator = Translator()"
   ]
  },
  {
   "cell_type": "code",
   "execution_count": 30,
   "metadata": {},
   "outputs": [],
   "source": [
    "def translate_batch(texts):\n",
    "    translations = translator.translate(texts, dest='id')\n",
    "    return [translation.text for translation in translations]"
   ]
  },
  {
   "cell_type": "code",
   "execution_count": 31,
   "metadata": {},
   "outputs": [],
   "source": [
    "batch_size = 100  # Adjust batch size as needed\n",
    "num_batches = len(df) // batch_size + (1 if len(df) % batch_size else 0)"
   ]
  },
  {
   "cell_type": "code",
   "execution_count": 32,
   "metadata": {},
   "outputs": [],
   "source": [
    "start_index = df.loc[~df['translated']].index.min() if not df['translated'].all() else len(df)\n",
    "\n",
    "# Calculate the starting batch based on the start_index\n",
    "start_batch = start_index // batch_size\n",
    "\n",
    "for i in range(start_batch, num_batches):\n",
    "    # Calculate batch indices considering the DataFrame might not be perfectly divisible by batch_size\n",
    "    batch_indices = range(i*batch_size, min((i+1)*batch_size, len(df)))\n",
    "    # Select only untranslated texts in the current batch\n",
    "    untranslated_batch = df.loc[batch_indices].loc[~df['translated'], 'text'].tolist()\n",
    "    \n",
    "    if untranslated_batch:  # Check if there are any untranslated texts left\n",
    "        translated_batch = translate_batch(untranslated_batch)\n",
    "        # Update the DataFrame with translated texts and mark them as translated\n",
    "        # This assumes the order of texts returned by translate_batch matches the order of texts sent\n",
    "        untranslated_indices = df.loc[batch_indices][~df.loc[batch_indices]['translated']].index\n",
    "        for j, idx in enumerate(untranslated_indices):\n",
    "            df.at[idx, 'text'] = translated_batch[j]\n",
    "            df.at[idx, 'translated'] = True\n",
    "        # Optionally, save the DataFrame to a file or database here to persist changes"
   ]
  },
  {
   "cell_type": "code",
   "execution_count": 33,
   "metadata": {},
   "outputs": [
    {
     "name": "stdout",
     "output_type": "stream",
     "text": [
      "The quick brown fox  ->  Rubah coklat yang cepat\n",
      "jumps over  ->  melompati\n",
      "the lazy dog  ->  anjing pemalas\n"
     ]
    }
   ],
   "source": [
    "translations = translator.translate(['The quick brown fox', 'jumps over', 'the lazy dog'], dest='id')\n",
    "for translation in translations:\n",
    "    print(translation.origin, ' -> ', translation.text)"
   ]
  },
  {
   "cell_type": "code",
   "execution_count": 34,
   "metadata": {},
   "outputs": [],
   "source": [
    "df.to_csv('translated-text-data.csv', index=False)"
   ]
  }
 ],
 "metadata": {
  "kernelspec": {
   "display_name": "Python 3 (ipykernel)",
   "language": "python",
   "name": "python3"
  },
  "language_info": {
   "codemirror_mode": {
    "name": "ipython",
    "version": 3
   },
   "file_extension": ".py",
   "mimetype": "text/x-python",
   "name": "python",
   "nbconvert_exporter": "python",
   "pygments_lexer": "ipython3",
   "version": "3.10.12"
  }
 },
 "nbformat": 4,
 "nbformat_minor": 2
}
